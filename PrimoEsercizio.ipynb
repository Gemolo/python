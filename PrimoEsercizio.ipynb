{
  "nbformat": 4,
  "nbformat_minor": 0,
  "metadata": {
    "colab": {
      "provenance": []
    },
    "kernelspec": {
      "name": "python3",
      "display_name": "Python 3"
    },
    "language_info": {
      "name": "python"
    }
  },
  "cells": [
    {
      "cell_type": "markdown",
      "source": [
        "In questo primo esercizio di Python vedremo le quattro principali operazione matematiche."
      ],
      "metadata": {
        "id": "OC-CYJkqWUqT"
      }
    },
    {
      "cell_type": "code",
      "execution_count": 4,
      "metadata": {
        "id": "3a-CpUT3VtC6"
      },
      "outputs": [],
      "source": [
        "# definiamo la funzione somma con due parametri in ingresso a, b\n",
        "def somma(a, b):\n",
        "  return a + b\n",
        "\n",
        "# definiamo la funzione sottrazione con due parametri in ingresso a, b\n",
        "def sottrazione(a, b):\n",
        "  return a - b\n",
        "\n",
        "# definiamo la funzione moltiplicazione con due parametri in ingresso a, b\n",
        "def moltiplicazione(a, b):\n",
        "  return a * b\n",
        "\n",
        "# definiamo la funzione divisione con due parametri in ingresso a, b\n",
        "def divisione(a, b):\n",
        "  return a/b\n",
        "\n",
        "# definiamo la funzione init come funzione che conterrà tutto il codice che deve eseguirsi\n",
        "def init():\n",
        "  print(\"La somma di 6 + 7 = \", somma(6, 7))\n"
      ]
    },
    {
      "cell_type": "markdown",
      "source": [
        "Modifichiamo la funzione init in modo tale da chiedere all'utente due numeri in ingresso"
      ],
      "metadata": {
        "id": "lfpgDvEEXdCU"
      }
    },
    {
      "cell_type": "code",
      "source": [
        "# definiamo la funzione somma con due parametri in ingresso a, b\n",
        "def somma(a, b):\n",
        "  return a + b\n",
        "\n",
        "# definiamo la funzione sottrazione con due parametri in ingresso a, b\n",
        "def sottrazione(a, b):\n",
        "  return a - b\n",
        "\n",
        "# definiamo la funzione moltiplicazione con due parametri in ingresso a, b\n",
        "def moltiplicazione(a, b):\n",
        "  return a * b\n",
        "\n",
        "# definiamo la funzione divisione con due parametri in ingresso a, b\n",
        "def divisione(a, b):\n",
        "  return a/b\n",
        "\n",
        "# definiamo la funzione init come funzione che conterrà tutto il codice che deve eseguirsi\n",
        "def init():\n",
        "  # dobbiamo castare ad int i seguenti numero per poter eseguire le operazioni\n",
        "  numero1 = int(input(\"Dimmi il primo numero: \"))\n",
        "  numero2 = int(input(\"Dimmi il secondo numero: \"))\n",
        "\n",
        "  # utilizziamo uno  per far scegliere all'utente che operazione vuole fare\n",
        "  operazione = int(input(\"Scrivi un numero per scegliere l'operazione:\\n 1 - somma \\n 2 - sottrazione \\n 3 - moltiplicazione \\n 4 - divisione \\n\"))\n",
        "  match operazione:\n",
        "    case 1:\n",
        "      print(\"La somma è: \", somma(numero1, numero2))\n",
        "    case 2:\n",
        "      print(\"La sottrazione è: \", sottrazione(numero1, numero2))\n",
        "    case 3:\n",
        "      print(\"La moltiplicazione è: \", moltiplicazione(numero1, numero2))\n",
        "    case 4:\n",
        "      print(\"La divisione è: \", divisione(numero1, numero2))\n",
        "    # quando l'utente sbaglia a scrivere\n",
        "    case _: \n",
        "      print(\"scegli un'operazione valida\")\n",
        "\n",
        "  "
      ],
      "metadata": {
        "id": "CHE55QfWXkqL"
      },
      "execution_count": 28,
      "outputs": []
    },
    {
      "cell_type": "code",
      "source": [
        "init()"
      ],
      "metadata": {
        "colab": {
          "base_uri": "https://localhost:8080/",
          "height": 311
        },
        "id": "vTnir5GuXi4b",
        "outputId": "bd5b445e-ba24-45f6-8d84-f50e369e7d79"
      },
      "execution_count": 30,
      "outputs": [
        {
          "output_type": "error",
          "ename": "KeyboardInterrupt",
          "evalue": "ignored",
          "traceback": [
            "\u001b[0;31m---------------------------------------------------------------------------\u001b[0m",
            "\u001b[0;31mKeyboardInterrupt\u001b[0m                         Traceback (most recent call last)",
            "\u001b[0;32m<ipython-input-30-ecd396ae1e7f>\u001b[0m in \u001b[0;36m<cell line: 1>\u001b[0;34m()\u001b[0m\n\u001b[0;32m----> 1\u001b[0;31m \u001b[0minit\u001b[0m\u001b[0;34m(\u001b[0m\u001b[0;34m)\u001b[0m\u001b[0;34m\u001b[0m\u001b[0;34m\u001b[0m\u001b[0m\n\u001b[0m",
            "\u001b[0;32m<ipython-input-28-a8fc36205f12>\u001b[0m in \u001b[0;36minit\u001b[0;34m()\u001b[0m\n\u001b[1;32m     18\u001b[0m \u001b[0;32mdef\u001b[0m \u001b[0minit\u001b[0m\u001b[0;34m(\u001b[0m\u001b[0;34m)\u001b[0m\u001b[0;34m:\u001b[0m\u001b[0;34m\u001b[0m\u001b[0;34m\u001b[0m\u001b[0m\n\u001b[1;32m     19\u001b[0m   \u001b[0;31m# dobbiamo castare ad int i seguenti numero per poter eseguire le operazioni\u001b[0m\u001b[0;34m\u001b[0m\u001b[0;34m\u001b[0m\u001b[0m\n\u001b[0;32m---> 20\u001b[0;31m   \u001b[0mnumero1\u001b[0m \u001b[0;34m=\u001b[0m \u001b[0mint\u001b[0m\u001b[0;34m(\u001b[0m\u001b[0minput\u001b[0m\u001b[0;34m(\u001b[0m\u001b[0;34m\"Dimmi il primo numero: \"\u001b[0m\u001b[0;34m)\u001b[0m\u001b[0;34m)\u001b[0m\u001b[0;34m\u001b[0m\u001b[0;34m\u001b[0m\u001b[0m\n\u001b[0m\u001b[1;32m     21\u001b[0m   \u001b[0mnumero2\u001b[0m \u001b[0;34m=\u001b[0m \u001b[0mint\u001b[0m\u001b[0;34m(\u001b[0m\u001b[0minput\u001b[0m\u001b[0;34m(\u001b[0m\u001b[0;34m\"Dimmi il secondo numero: \"\u001b[0m\u001b[0;34m)\u001b[0m\u001b[0;34m)\u001b[0m\u001b[0;34m\u001b[0m\u001b[0;34m\u001b[0m\u001b[0m\n\u001b[1;32m     22\u001b[0m \u001b[0;34m\u001b[0m\u001b[0m\n",
            "\u001b[0;32m/usr/local/lib/python3.10/dist-packages/ipykernel/kernelbase.py\u001b[0m in \u001b[0;36mraw_input\u001b[0;34m(self, prompt)\u001b[0m\n\u001b[1;32m    849\u001b[0m                 \u001b[0;34m\"raw_input was called, but this frontend does not support input requests.\"\u001b[0m\u001b[0;34m\u001b[0m\u001b[0;34m\u001b[0m\u001b[0m\n\u001b[1;32m    850\u001b[0m             )\n\u001b[0;32m--> 851\u001b[0;31m         return self._input_request(str(prompt),\n\u001b[0m\u001b[1;32m    852\u001b[0m             \u001b[0mself\u001b[0m\u001b[0;34m.\u001b[0m\u001b[0m_parent_ident\u001b[0m\u001b[0;34m,\u001b[0m\u001b[0;34m\u001b[0m\u001b[0;34m\u001b[0m\u001b[0m\n\u001b[1;32m    853\u001b[0m             \u001b[0mself\u001b[0m\u001b[0;34m.\u001b[0m\u001b[0m_parent_header\u001b[0m\u001b[0;34m,\u001b[0m\u001b[0;34m\u001b[0m\u001b[0;34m\u001b[0m\u001b[0m\n",
            "\u001b[0;32m/usr/local/lib/python3.10/dist-packages/ipykernel/kernelbase.py\u001b[0m in \u001b[0;36m_input_request\u001b[0;34m(self, prompt, ident, parent, password)\u001b[0m\n\u001b[1;32m    893\u001b[0m             \u001b[0;32mexcept\u001b[0m \u001b[0mKeyboardInterrupt\u001b[0m\u001b[0;34m:\u001b[0m\u001b[0;34m\u001b[0m\u001b[0;34m\u001b[0m\u001b[0m\n\u001b[1;32m    894\u001b[0m                 \u001b[0;31m# re-raise KeyboardInterrupt, to truncate traceback\u001b[0m\u001b[0;34m\u001b[0m\u001b[0;34m\u001b[0m\u001b[0m\n\u001b[0;32m--> 895\u001b[0;31m                 \u001b[0;32mraise\u001b[0m \u001b[0mKeyboardInterrupt\u001b[0m\u001b[0;34m(\u001b[0m\u001b[0;34m\"Interrupted by user\"\u001b[0m\u001b[0;34m)\u001b[0m \u001b[0;32mfrom\u001b[0m \u001b[0;32mNone\u001b[0m\u001b[0;34m\u001b[0m\u001b[0;34m\u001b[0m\u001b[0m\n\u001b[0m\u001b[1;32m    896\u001b[0m             \u001b[0;32mexcept\u001b[0m \u001b[0mException\u001b[0m \u001b[0;32mas\u001b[0m \u001b[0me\u001b[0m\u001b[0;34m:\u001b[0m\u001b[0;34m\u001b[0m\u001b[0;34m\u001b[0m\u001b[0m\n\u001b[1;32m    897\u001b[0m                 \u001b[0mself\u001b[0m\u001b[0;34m.\u001b[0m\u001b[0mlog\u001b[0m\u001b[0;34m.\u001b[0m\u001b[0mwarning\u001b[0m\u001b[0;34m(\u001b[0m\u001b[0;34m\"Invalid Message:\"\u001b[0m\u001b[0;34m,\u001b[0m \u001b[0mexc_info\u001b[0m\u001b[0;34m=\u001b[0m\u001b[0;32mTrue\u001b[0m\u001b[0;34m)\u001b[0m\u001b[0;34m\u001b[0m\u001b[0;34m\u001b[0m\u001b[0m\n",
            "\u001b[0;31mKeyboardInterrupt\u001b[0m: Interrupted by user"
          ]
        }
      ]
    }
  ]
}