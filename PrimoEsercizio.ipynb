{
  "nbformat": 4,
  "nbformat_minor": 0,
  "metadata": {
    "colab": {
      "provenance": []
    },
    "kernelspec": {
      "name": "python3",
      "display_name": "Python 3"
    },
    "language_info": {
      "name": "python"
    }
  },
  "cells": [
    {
      "cell_type": "markdown",
      "source": [
        "In questo primo esercizio di Python vedremo le quattro principali operazione matematiche."
      ],
      "metadata": {
        "id": "OC-CYJkqWUqT"
      }
    },
    {
      "cell_type": "code",
      "execution_count": 4,
      "metadata": {
        "id": "3a-CpUT3VtC6"
      },
      "outputs": [],
      "source": [
        "# definiamo la funzione somma con due parametri in ingresso a, b\n",
        "def somma(a, b):\n",
        "  return a + b\n",
        "\n",
        "# definiamo la funzione sottrazione con due parametri in ingresso a, b\n",
        "def sottrazione(a, b):\n",
        "  return a - b\n",
        "\n",
        "# definiamo la funzione moltiplicazione con due parametri in ingresso a, b\n",
        "def moltiplicazione(a, b):\n",
        "  return a * b\n",
        "\n",
        "# definiamo la funzione divisione con due parametri in ingresso a, b\n",
        "def divisione(a, b):\n",
        "  return a/b\n",
        "\n",
        "# definiamo la funzione init come funzione che conterrà tutto il codice che deve eseguirsi\n",
        "def init():\n",
        "  print(\"La somma di 6 + 7 = \", somma(6, 7))\n"
      ]
    },
    {
      "cell_type": "markdown",
      "source": [
        "Modifichiamo la funzione init in modo tale da chiedere all'utente due numeri in ingresso"
      ],
      "metadata": {
        "id": "lfpgDvEEXdCU"
      }
    },
    {
      "cell_type": "code",
      "source": [
        "# definiamo la funzione somma con due parametri in ingresso a, b\n",
        "def somma(a, b):\n",
        "  return a + b\n",
        "\n",
        "# definiamo la funzione sottrazione con due parametri in ingresso a, b\n",
        "def sottrazione(a, b):\n",
        "  return a - b\n",
        "\n",
        "# definiamo la funzione moltiplicazione con due parametri in ingresso a, b\n",
        "def moltiplicazione(a, b):\n",
        "  return a * b\n",
        "\n",
        "# definiamo la funzione divisione con due parametri in ingresso a, b\n",
        "def divisione(a, b):\n",
        "  return a/b\n",
        "\n",
        "# definiamo la funzione init come funzione che conterrà tutto il codice che deve eseguirsi\n",
        "def init():\n",
        "  # dobbiamo castare ad int i seguenti numero per poter eseguire le operazioni\n",
        "  numero1 = int(input(\"Dimmi il primo numero: \"))\n",
        "  numero2 = int(input(\"Dimmi il secondo numero: \"))\n",
        "\n",
        "  # utilizziamo uno  per far scegliere all'utente che operazione vuole fare\n",
        "  operazione = int(input(\"Scrivi un numero per scegliere l'operazione:\\n 1 - somma \\n 2 - sottrazione \\n 3 - moltiplicazione \\n 4 - divisione \\n\"))\n",
        "  match operazione:\n",
        "    case 1:\n",
        "      print(\"La somma è: \", somma(numero1, numero2))\n",
        "    case 2:\n",
        "      print(\"La sottrazione è: \", sottrazione(numero1, numero2))\n",
        "    case 3:\n",
        "      print(\"La moltiplicazione è: \", moltiplicazione(numero1, numero2))\n",
        "    case 4:\n",
        "      print(\"La divisione è: \", divisione(numero1, numero2))\n",
        "    # quando l'utente sbaglia a scrivere\n",
        "    case _: \n",
        "      print(\"scegli un'operazione valida\")\n",
        "\n",
        "  "
      ],
      "metadata": {
        "id": "CHE55QfWXkqL"
      },
      "execution_count": 28,
      "outputs": []
    },
    {
      "cell_type": "code",
      "source": [
        "init()"
      ],
      "metadata": {
        "colab": {
          "base_uri": "https://localhost:8080/"
        },
        "id": "vTnir5GuXi4b",
        "outputId": "c37e74ed-00d4-48ca-c583-1779c9db684f"
      },
      "execution_count": 31,
      "outputs": [
        {
          "output_type": "stream",
          "name": "stdout",
          "text": [
            "Dimmi il primo numero: 8\n",
            "Dimmi il secondo numero: 9\n",
            "Scrivi un numero per scegliere l'operazione:\n",
            " 1 - somma \n",
            " 2 - sottrazione \n",
            " 3 - moltiplicazione \n",
            " 4 - divisione \n",
            "3\n",
            "La moltiplicazione è:  72\n"
          ]
        }
      ]
    }
  ]
}
